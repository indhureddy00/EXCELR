{
 "cells": [
  {
   "cell_type": "code",
   "execution_count": 18,
   "id": "93462d02-1216-41f5-8f06-e2bba8909769",
   "metadata": {},
   "outputs": [
    {
     "name": "stdout",
     "output_type": "stream",
     "text": [
      "  Region  Sales\n",
      "1   West   2000\n",
      "2  North   1500\n",
      "4   East   1200\n",
      "  Region  Sales\n",
      "0   East    900\n",
      "4   East   1200\n"
     ]
    }
   ],
   "source": [
    "import pandas as pd\n",
    "\n",
    "filtered_df = df[df['Sales'] > 1000]\n",
    "print(filtered_df)\n",
    "east_sales_df = df[df['Region'] == 'East']\n",
    "print(east_sales_df)\n"
   ]
  },
  {
   "cell_type": "code",
   "execution_count": null,
   "id": "41c6b32e-ae6e-4d3c-9aac-8fbeff49d85c",
   "metadata": {},
   "outputs": [],
   "source": [
    "import pandas as pd\n",
    "\n",
    "# Assuming you have loaded your DataFrame named df\n",
    "# Calculate Profit_Per_Unit and add it as a new column\n",
    "df['Profit_Per_Unit'] = df['Profit'] / df['Quantity']\n",
    "print(df)\n"
   ]
  }
 ],
 "metadata": {
  "kernelspec": {
   "display_name": "Python [conda env:base] *",
   "language": "python",
   "name": "conda-base-py"
  },
  "language_info": {
   "codemirror_mode": {
    "name": "ipython",
    "version": 3
   },
   "file_extension": ".py",
   "mimetype": "text/x-python",
   "name": "python",
   "nbconvert_exporter": "python",
   "pygments_lexer": "ipython3",
   "version": "3.12.7"
  }
 },
 "nbformat": 4,
 "nbformat_minor": 5
}
